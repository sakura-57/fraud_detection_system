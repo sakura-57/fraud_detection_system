{
 "cells": [
  {
   "cell_type": "code",
   "execution_count": null,
   "id": "15b36116-bbef-4b72-bee6-413dfdf0b6a7",
   "metadata": {},
   "outputs": [],
   "source": []
  }
 ],
 "metadata": {
  "kernelspec": {
   "display_name": "Python (fraud-detection)",
   "language": "python",
   "name": "fraud-detection"
  },
  "language_info": {
   "codemirror_mode": {
    "name": "ipython",
    "version": 3
   },
   "file_extension": ".py",
   "mimetype": "text/x-python",
   "name": "python",
   "nbconvert_exporter": "python",
   "pygments_lexer": "ipython3",
   "version": "3.13.5"
  }
 },
 "nbformat": 4,
 "nbformat_minor": 5
}
